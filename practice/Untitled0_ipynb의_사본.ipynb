{
  "nbformat": 4,
  "nbformat_minor": 0,
  "metadata": {
    "colab": {
      "provenance": [],
      "authorship_tag": "ABX9TyOTZHtoz/m1ltAx4bnJ3Cnk",
      "include_colab_link": true
    },
    "kernelspec": {
      "name": "python3",
      "display_name": "Python 3"
    },
    "language_info": {
      "name": "python"
    }
  },
  "cells": [
    {
      "cell_type": "markdown",
      "metadata": {
        "id": "view-in-github",
        "colab_type": "text"
      },
      "source": [
        "<a href=\"https://colab.research.google.com/github/JeongeunL/AI_Programming/blob/main/practice/Untitled0_ipynb%EC%9D%98_%EC%82%AC%EB%B3%B8.ipynb\" target=\"_parent\"><img src=\"https://colab.research.google.com/assets/colab-badge.svg\" alt=\"Open In Colab\"/></a>"
      ]
    },
    {
      "cell_type": "markdown",
      "source": [
        "## Title\n",
        "\n",
        "- list 1\n",
        "- list 2"
      ],
      "metadata": {
        "id": "Nh_Cikd0PQes"
      }
    },
    {
      "cell_type": "code",
      "source": [
        "from google.colab import drive\n",
        "drive.mount('/content/drive')"
      ],
      "metadata": {
        "colab": {
          "base_uri": "https://localhost:8080/"
        },
        "id": "FziqWX5uQz_3",
        "outputId": "8651c431-b4df-4a64-8084-ab84f39c39ee"
      },
      "execution_count": 1,
      "outputs": [
        {
          "output_type": "stream",
          "name": "stdout",
          "text": [
            "Mounted at /content/drive\n"
          ]
        }
      ]
    },
    {
      "cell_type": "code",
      "source": [
        "ls # 현재 파일 주소"
      ],
      "metadata": {
        "colab": {
          "base_uri": "https://localhost:8080/"
        },
        "id": "xy44FUJlRFBE",
        "outputId": "99021128-c7f6-40ba-bcea-fbf915d34f73"
      },
      "execution_count": 3,
      "outputs": [
        {
          "output_type": "stream",
          "name": "stdout",
          "text": [
            "\u001b[0m\u001b[01;34mdrive\u001b[0m/  \u001b[01;34msample_data\u001b[0m/\n"
          ]
        }
      ]
    },
    {
      "cell_type": "code",
      "source": [
        "cd drive/MyDrive # 파일 주소 변경"
      ],
      "metadata": {
        "colab": {
          "base_uri": "https://localhost:8080/"
        },
        "id": "kgAwcy8qRKIn",
        "outputId": "888c6a02-5530-4e01-c90e-fe70b3bfbbe7"
      },
      "execution_count": 5,
      "outputs": [
        {
          "output_type": "stream",
          "name": "stdout",
          "text": [
            "[Errno 2] No such file or directory: 'drive/MyDrive # 파일 주소 변경'\n",
            "/content/drive/MyDrive\n"
          ]
        }
      ]
    },
    {
      "cell_type": "code",
      "source": [
        "!git clone https://github.com/stefmolin/Hands-On-Data-Analysis-with-Pandas-2nd-edition.git\n",
        "# 교재 있는 깃허브 주소 클론"
      ],
      "metadata": {
        "colab": {
          "base_uri": "https://localhost:8080/"
        },
        "id": "WMkQWvDZRXF5",
        "outputId": "88c06c68-9fb6-4052-a775-4251ecaf041d"
      },
      "execution_count": 6,
      "outputs": [
        {
          "output_type": "stream",
          "name": "stdout",
          "text": [
            "Cloning into 'Hands-On-Data-Analysis-with-Pandas-2nd-edition'...\n",
            "remote: Enumerating objects: 3415, done.\u001b[K\n",
            "remote: Counting objects: 100% (3415/3415), done.\u001b[K\n",
            "remote: Compressing objects: 100% (1235/1235), done.\u001b[K\n",
            "remote: Total 3415 (delta 2128), reused 3358 (delta 2117), pack-reused 0\u001b[K\n",
            "Receiving objects: 100% (3415/3415), 75.18 MiB | 14.76 MiB/s, done.\n",
            "Resolving deltas: 100% (2128/2128), done.\n",
            "Updating files: 100% (216/216), done.\n"
          ]
        }
      ]
    }
  ]
}