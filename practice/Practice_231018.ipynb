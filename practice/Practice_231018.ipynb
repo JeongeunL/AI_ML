{
  "nbformat": 4,
  "nbformat_minor": 0,
  "metadata": {
    "colab": {
      "provenance": [],
      "authorship_tag": "ABX9TyO/OMaqb6uiFnt+BlWc4URP",
      "include_colab_link": true
    },
    "kernelspec": {
      "name": "python3",
      "display_name": "Python 3"
    },
    "language_info": {
      "name": "python"
    }
  },
  "cells": [
    {
      "cell_type": "markdown",
      "metadata": {
        "id": "view-in-github",
        "colab_type": "text"
      },
      "source": [
        "<a href=\"https://colab.research.google.com/github/JeongeunL/AI_ML/blob/main/practice/Practice_231018.ipynb\" target=\"_parent\"><img src=\"https://colab.research.google.com/assets/colab-badge.svg\" alt=\"Open In Colab\"/></a>"
      ]
    },
    {
      "cell_type": "code",
      "execution_count": 1,
      "metadata": {
        "id": "0NmNM4mcbScM"
      },
      "outputs": [],
      "source": [
        "import pandas as pd\n",
        "import re"
      ]
    },
    {
      "cell_type": "code",
      "source": [
        "## 1. 텍스트에서 전화번호 찾기"
      ],
      "metadata": {
        "id": "z7Uv9-CWbmzJ"
      },
      "execution_count": 2,
      "outputs": []
    },
    {
      "cell_type": "code",
      "source": [
        "test_str = (\"hello world\\n\"\n",
        "\t\"4aa  13\\n\"\n",
        "\t\"aba  b44\\n\"\n",
        "\t\"ababaa5\\n\"\n",
        "\t\"yaya---\\n\"\n",
        "\t\"ikwak2@cau.ac.kr\\n\"\n",
        "\t\"il.youp.kwak@gmail.com\\n\"\n",
        "\t\"02-111-1234\\n\"\n",
        "\t\"010-3234-5555\\n\"\n",
        "\t\"01032321111\\n\"\n",
        "\t\"hello send me a message(name.kwak@cau.ac.kr)\\n\"\n",
        "\t\"call me (032 111 1424)\\n\")"
      ],
      "metadata": {
        "id": "1TZxGguRbmDK"
      },
      "execution_count": 3,
      "outputs": []
    },
    {
      "cell_type": "code",
      "source": [
        "regex = r\"\\d{2,3}[- ]?\\d{3,4}[- ]?\\d{4}\"\n",
        "# \\d: digit / {2,3}: 2 to 3 words / [- ]: - or space / ?: 0 or 1 (exist or not-exist)"
      ],
      "metadata": {
        "id": "WUnIYbdvbqFx"
      },
      "execution_count": 12,
      "outputs": []
    },
    {
      "cell_type": "code",
      "source": [
        "matches = re.finditer(regex, test_str, re.MULTILINE)\n",
        "for matchNum, match in enumerate(matches, start=1):\n",
        "\n",
        "    print (\"Match {matchNum} was found at {start}-{end}: {match}\".format(matchNum = matchNum, start = match.start(), end = match.end(), match = match.group()))\n",
        "\n",
        "    for groupNum in range(0, len(match.groups())):\n",
        "        groupNum = groupNum + 1\n",
        "\n",
        "        print (\"Group {groupNum} found at {start}-{end}: {group}\".format(groupNum = groupNum, start = match.start(groupNum), end = match.end(groupNum), group = match.group(groupNum)))\n",
        ""
      ],
      "metadata": {
        "colab": {
          "base_uri": "https://localhost:8080/"
        },
        "id": "SHY0vJ9Yc7F1",
        "outputId": "c70c53e3-1233-4323-bd77-bf3208dd4090"
      },
      "execution_count": 13,
      "outputs": [
        {
          "output_type": "stream",
          "name": "stdout",
          "text": [
            "Match 1 was found at 85-96: 02-111-1234\n",
            "Match 2 was found at 97-110: 010-3234-5555\n",
            "Match 3 was found at 111-122: 01032321111\n",
            "Match 4 was found at 177-189: 032 111 1424\n"
          ]
        }
      ]
    }
  ]
}